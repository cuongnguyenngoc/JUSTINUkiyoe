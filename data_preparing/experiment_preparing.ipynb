{
 "cells": [
  {
   "cell_type": "code",
   "execution_count": 6,
   "metadata": {},
   "outputs": [],
   "source": [
    "import pandas as pd\n",
    "import os"
   ]
  },
  {
   "cell_type": "code",
   "execution_count": 7,
   "metadata": {},
   "outputs": [],
   "source": [
    "data_path = \"Data/stage 3/cleaned-ukiyo-e-content-remove-nan-keyword-filtered.csv\""
   ]
  },
  {
   "cell_type": "code",
   "execution_count": 8,
   "metadata": {
    "scrolled": false
   },
   "outputs": [
    {
     "name": "stdout",
     "output_type": "stream",
     "text": [
      "https://research.britishmuseum.org/collectionimages/AN00535/AN00535774_001_l.jpg\n",
      "https://research.britishmuseum.org/collectionimages/AN01293/AN01293838_001_l.jpg\n",
      "https://research.britishmuseum.org/collectionimages/AN00602/AN00602643_001_l.jpg\n"
     ]
    }
   ],
   "source": [
    "df = pd.read_csv(data_path)\n",
    "df = df[~df['Keywords'].str.contains(\"sex\")]\n",
    "df = df[~df['Title'].str.contains(\"hanging scroll\")]\n",
    "df = df.sample(n=3)\n",
    "\n",
    "for url in df.Source:\n",
    "    print(url)"
   ]
  },
  {
   "cell_type": "code",
   "execution_count": 9,
   "metadata": {},
   "outputs": [],
   "source": [
    "# df.to_csv('Data/real-experiment-3-ukiyo-e.csv', index=None)"
   ]
  },
  {
   "cell_type": "code",
   "execution_count": 11,
   "metadata": {},
   "outputs": [
    {
     "data": {
      "text/html": [
       "<div>\n",
       "<style scoped>\n",
       "    .dataframe tbody tr th:only-of-type {\n",
       "        vertical-align: middle;\n",
       "    }\n",
       "\n",
       "    .dataframe tbody tr th {\n",
       "        vertical-align: top;\n",
       "    }\n",
       "\n",
       "    .dataframe thead th {\n",
       "        text-align: right;\n",
       "    }\n",
       "</style>\n",
       "<table border=\"1\" class=\"dataframe\">\n",
       "  <thead>\n",
       "    <tr style=\"text-align: right;\">\n",
       "      <th></th>\n",
       "      <th>Title</th>\n",
       "      <th>Source</th>\n",
       "      <th>Description</th>\n",
       "      <th>Keywords</th>\n",
       "    </tr>\n",
       "  </thead>\n",
       "  <tbody>\n",
       "    <tr>\n",
       "      <th>1</th>\n",
       "      <td>Nakagawa, Nino, Isochi・・ｻﾂﾂ・・ｻ・・ｻ・ｽｪ・・ｻ・・ｻ・・...</td>\n",
       "      <td>https://research.britishmuseum.org/collectioni...</td>\n",
       "      <td>Colour woodblock print. Courtesan Nakagawa of ...</td>\n",
       "      <td>courtesan/prostitute;bijin;kamuro</td>\n",
       "    </tr>\n",
       "    <tr>\n",
       "      <th>2</th>\n",
       "      <td>print</td>\n",
       "      <td>https://research.britishmuseum.org/collectioni...</td>\n",
       "      <td>Woodblock print. Popular culture. Chin dog, cl...</td>\n",
       "      <td>toy (?);food/drink;dog</td>\n",
       "    </tr>\n",
       "  </tbody>\n",
       "</table>\n",
       "</div>"
      ],
      "text/plain": [
       "                                               Title  \\\n",
       "1  Nakagawa, Nino, Isochi・・ｻﾂﾂ・・ｻ・・ｻ・ｽｪ・・ｻ・・ｻ・・...   \n",
       "2                                              print   \n",
       "\n",
       "                                              Source  \\\n",
       "1  https://research.britishmuseum.org/collectioni...   \n",
       "2  https://research.britishmuseum.org/collectioni...   \n",
       "\n",
       "                                         Description  \\\n",
       "1  Colour woodblock print. Courtesan Nakagawa of ...   \n",
       "2  Woodblock print. Popular culture. Chin dog, cl...   \n",
       "\n",
       "                            Keywords  \n",
       "1  courtesan/prostitute;bijin;kamuro  \n",
       "2             toy (?);food/drink;dog  "
      ]
     },
     "execution_count": 11,
     "metadata": {},
     "output_type": "execute_result"
    }
   ],
   "source": [
    "df = pd.read_csv('Data/real-experiment-3-ukiyo-e.csv')\n",
    "\n",
    "qualified_images = ['AN00595730_001_l.jpg']\n",
    "df = df[df.Source.apply(lambda url: os.path.basename(url) not in qualified_images)]\n",
    "\n",
    "df"
   ]
  },
  {
   "cell_type": "code",
   "execution_count": null,
   "metadata": {},
   "outputs": [],
   "source": []
  }
 ],
 "metadata": {
  "kernelspec": {
   "display_name": "Python 3",
   "language": "python",
   "name": "python3"
  },
  "language_info": {
   "codemirror_mode": {
    "name": "ipython",
    "version": 3
   },
   "file_extension": ".py",
   "mimetype": "text/x-python",
   "name": "python",
   "nbconvert_exporter": "python",
   "pygments_lexer": "ipython3",
   "version": "3.7.2"
  }
 },
 "nbformat": 4,
 "nbformat_minor": 2
}
