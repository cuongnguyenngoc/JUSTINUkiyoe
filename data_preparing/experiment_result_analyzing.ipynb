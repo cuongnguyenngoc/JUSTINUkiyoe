{
 "cells": [
  {
   "cell_type": "code",
   "execution_count": 1,
   "metadata": {},
   "outputs": [],
   "source": [
    "import pandas as pd\n",
    "import json"
   ]
  },
  {
   "cell_type": "code",
   "execution_count": 5,
   "metadata": {},
   "outputs": [],
   "source": [
    "def load_winning_des():\n",
    "    win_des = {}\n",
    "    try:\n",
    "        with open('../Data/winning_description_candidate.json') as json_file:\n",
    "            win_des = json.load(json_file)\n",
    "    except:\n",
    "        pass\n",
    "    return win_des"
   ]
  },
  {
   "cell_type": "code",
   "execution_count": 8,
   "metadata": {
    "scrolled": false
   },
   "outputs": [
    {
     "data": {
      "text/plain": [
       "{'AN00422006_001_l.jpg': {'a wife helping his husband dressing': {'score': 1.0,\n",
       "   'used_time': 3}},\n",
       " 'AN00440858_001_l.jpg': {'A man and a woman': {'score': 0.6666666666666666,\n",
       "   'used_time': 1}},\n",
       " 'AN00440416_001_l.jpg': {'a woman riding a goose': {'score': 0.3000000000000001,\n",
       "   'used_time': 5},\n",
       "  'A woman wearing a kimono flying on a goose': {'score': 1.0, 'used_time': 2},\n",
       "  'flying duck again1': {'score': 0.4, 'used_time': 1}},\n",
       " 'AN00513489_001_l.jpg': {'3 wimen are walking': {'score': 0.9411764705882353,\n",
       "   'used_time': 2},\n",
       "  'three women is talking.': {'score': 1.0, 'used_time': 1}},\n",
       " 'AN00516198_001_l.jpg': {'a women holding her baby': {'score': 0.5142857142857142,\n",
       "   'used_time': 2},\n",
       "  'a woman and her child': {'score': 0.6666666666666666, 'used_time': 1}},\n",
       " 'AN00512212_001_l.jpg': {'A woman is waking in the friont of two people': {'score': 0.8181818181818181,\n",
       "   'used_time': 2},\n",
       "  'a man with a goose': {'score': 1.0, 'used_time': 1}},\n",
       " 'AN00516233_001_l.jpg': {'a beautiful woman': {'score': 1.0, 'used_time': 1}},\n",
       " 'AN1613067837_l.jpg': {},\n",
       " 'AN00418022_001_l.jpg': {'strong man holding an umbrella': {'score': 0.75,\n",
       "   'used_time': 1}},\n",
       " 'AN00758688_001_l.jpg': {'a man enjoy eating and drinking': {'score': 0.6666666666666666,\n",
       "   'used_time': 1}},\n",
       " 'AN00422135_001_l.jpg': {'a woman washing a baby and the other is scolding ehr': {'score': 0.5,\n",
       "   'used_time': 1}}}"
      ]
     },
     "execution_count": 8,
     "metadata": {},
     "output_type": "execute_result"
    }
   ],
   "source": [
    "win_des_candidate = load_winning_des()\n",
    "\n",
    "data = {}\n",
    "\n",
    "f = open('../Data/winning_users_log.txt', 'r')\n",
    "lines = f.read().splitlines()\n",
    "\n",
    "for line in lines:\n",
    "\n",
    "    components = line.split(\"||\")\n",
    "    descriptions = {}\n",
    "    if components[2] in data:\n",
    "        descriptions = data.get(components[2])\n",
    "    \n",
    "    if components[4] == \"describer\":\n",
    "        if components[3] in win_des_candidate:\n",
    "            descriptions[components[3]] = win_des_candidate.get(components[3])\n",
    "    data[components[2]] = descriptions\n",
    "\n",
    "data"
   ]
  },
  {
   "cell_type": "code",
   "execution_count": 11,
   "metadata": {},
   "outputs": [],
   "source": [
    "def store_image_w_winning_des(images):\n",
    "    with open('../Data/image_w_winn_descriptions.json', 'w') as outfile:\n",
    "        json.dump(images, outfile)"
   ]
  },
  {
   "cell_type": "code",
   "execution_count": 12,
   "metadata": {},
   "outputs": [],
   "source": [
    "store_image_w_winning_des(data)"
   ]
  },
  {
   "cell_type": "code",
   "execution_count": null,
   "metadata": {},
   "outputs": [],
   "source": [
    "df = pd.read_csv('Data/real-experiment-12-ukiyo-e-v2.csv')\n",
    "\n",
    "data_with_links = {}\n",
    "\n",
    "for img, des in data.items():\n",
    "    data_with_links"
   ]
  },
  {
   "cell_type": "code",
   "execution_count": 17,
   "metadata": {},
   "outputs": [
    {
     "name": "stdout",
     "output_type": "stream",
     "text": [
      "90\n",
      "90\n",
      "90\n",
      "10\n",
      "10\n"
     ]
    }
   ],
   "source": [
    "for i in range(10):\n",
    "    added_score = i*10\n",
    "\n",
    "if 10 > 9:\n",
    "    for i in range(5):\n",
    "        if i>2:\n",
    "            added_score = 10\n",
    "        print(added_score)"
   ]
  },
  {
   "cell_type": "code",
   "execution_count": null,
   "metadata": {},
   "outputs": [],
   "source": []
  }
 ],
 "metadata": {
  "kernelspec": {
   "display_name": "Python 3",
   "language": "python",
   "name": "python3"
  },
  "language_info": {
   "codemirror_mode": {
    "name": "ipython",
    "version": 3
   },
   "file_extension": ".py",
   "mimetype": "text/x-python",
   "name": "python",
   "nbconvert_exporter": "python",
   "pygments_lexer": "ipython3",
   "version": "3.7.2"
  }
 },
 "nbformat": 4,
 "nbformat_minor": 2
}
