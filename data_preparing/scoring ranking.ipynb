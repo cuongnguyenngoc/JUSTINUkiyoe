{
 "cells": [
  {
   "cell_type": "code",
   "execution_count": 1,
   "metadata": {},
   "outputs": [],
   "source": [
    "import pandas as pd\n",
    "import json\n",
    "import "
   ]
  },
  {
   "cell_type": "code",
   "execution_count": 19,
   "metadata": {},
   "outputs": [
    {
     "name": "stdout",
     "output_type": "stream",
     "text": [
      "          user  score\n",
      "0     segmeton     38\n",
      "1    kuralemot     36\n",
      "2    shiumochi     31\n",
      "3     is0388ik     29\n",
      "4     touma100     29\n",
      "5    icelabuki     17\n",
      "6  ginzaru1358     15\n"
     ]
    }
   ],
   "source": [
    "def load_participants_info():\n",
    "    participants = {}\n",
    "    try:\n",
    "        with open('../Data/participants_info.json') as json_file:\n",
    "            participants = json.load(json_file)\n",
    "    except:\n",
    "        pass\n",
    "    return participants\n",
    "\n",
    "def get_top_participants(participants):\n",
    "        top_participants = None\n",
    "        if bool(participants):\n",
    "            top_participants = sorted(participants.items(), key=lambda x: x[1].get(\"total_score\"), reverse=True)\n",
    "        \n",
    "        return top_participants\n",
    "\n",
    "participants = load_participants_info()\n",
    "participants = get_top_participants(participants)\n",
    "\n",
    "users = []\n",
    "scores = []\n",
    "\n",
    "for participant in participants:\n",
    "    users.append(participant[0])\n",
    "    scores.append(int(round(participant[1].get('total_score')*10)))\n",
    "\n",
    "result = {'user': users, 'score': scores}\n",
    "resultdf = pd.DataFrame(result, columns= ['user', 'score'])\n",
    "print(resultdf)\n",
    "resultdf.to_csv('../Data/scoring_board.csv', index=None, header=True)"
   ]
  },
  {
   "cell_type": "code",
   "execution_count": null,
   "metadata": {},
   "outputs": [],
   "source": []
  }
 ],
 "metadata": {
  "kernelspec": {
   "display_name": "Python 3",
   "language": "python",
   "name": "python3"
  },
  "language_info": {
   "codemirror_mode": {
    "name": "ipython",
    "version": 3
   },
   "file_extension": ".py",
   "mimetype": "text/x-python",
   "name": "python",
   "nbconvert_exporter": "python",
   "pygments_lexer": "ipython3",
   "version": "3.7.2"
  }
 },
 "nbformat": 4,
 "nbformat_minor": 2
}
