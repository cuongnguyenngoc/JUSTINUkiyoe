{
 "cells": [
  {
   "cell_type": "code",
   "execution_count": 9,
   "metadata": {},
   "outputs": [],
   "source": [
    "import pandas as pd\n",
    "import os"
   ]
  },
  {
   "cell_type": "code",
   "execution_count": 10,
   "metadata": {},
   "outputs": [],
   "source": [
    "original = pd.read_csv('Data/Pythia/ukiyo-captions.csv')\n",
    "flip_lr = pd.read_csv('Data/Pythia/ukiyo-captions-fliplr.csv')"
   ]
  },
  {
   "cell_type": "code",
   "execution_count": 12,
   "metadata": {},
   "outputs": [
    {
     "name": "stdout",
     "output_type": "stream",
     "text": [
      "1751\n"
     ]
    },
    {
     "data": {
      "text/html": [
       "<div>\n",
       "<style scoped>\n",
       "    .dataframe tbody tr th:only-of-type {\n",
       "        vertical-align: middle;\n",
       "    }\n",
       "\n",
       "    .dataframe tbody tr th {\n",
       "        vertical-align: top;\n",
       "    }\n",
       "\n",
       "    .dataframe thead th {\n",
       "        text-align: right;\n",
       "    }\n",
       "</style>\n",
       "<table border=\"1\" class=\"dataframe\">\n",
       "  <thead>\n",
       "    <tr style=\"text-align: right;\">\n",
       "      <th></th>\n",
       "      <th>url</th>\n",
       "      <th>caption_1</th>\n",
       "      <th>caption_2</th>\n",
       "      <th>name</th>\n",
       "    </tr>\n",
       "  </thead>\n",
       "  <tbody>\n",
       "    <tr>\n",
       "      <th>0</th>\n",
       "      <td>https://research.britishmuseum.org/collectioni...</td>\n",
       "      <td>a painting of a woman standing next to a painting</td>\n",
       "      <td>a painting of a woman holding a kite</td>\n",
       "      <td>AN00423713_001_l.jpg</td>\n",
       "    </tr>\n",
       "    <tr>\n",
       "      <th>1</th>\n",
       "      <td>https://research.britishmuseum.org/collectioni...</td>\n",
       "      <td>a painting of a woman holding an umbrella</td>\n",
       "      <td>a painting of a woman holding an umbrella</td>\n",
       "      <td>AN00421017_001_l.jpg</td>\n",
       "    </tr>\n",
       "    <tr>\n",
       "      <th>2</th>\n",
       "      <td>https://research.britishmuseum.org/collectioni...</td>\n",
       "      <td>a couple of men standing next to each other</td>\n",
       "      <td>a couple of men standing next to each other</td>\n",
       "      <td>AN00595832_001_l.jpg</td>\n",
       "    </tr>\n",
       "    <tr>\n",
       "      <th>3</th>\n",
       "      <td>https://research.britishmuseum.org/collectioni...</td>\n",
       "      <td>a painting of a man on a wall with a kite</td>\n",
       "      <td>a painting of a person on a wall with a kite</td>\n",
       "      <td>AN00537401_001_l.jpg</td>\n",
       "    </tr>\n",
       "    <tr>\n",
       "      <th>4</th>\n",
       "      <td>https://research.britishmuseum.org/collectioni...</td>\n",
       "      <td>a painting of a clock on a wall</td>\n",
       "      <td>a painting of a building with a clock on it</td>\n",
       "      <td>AN00246310_001_l.jpg</td>\n",
       "    </tr>\n",
       "  </tbody>\n",
       "</table>\n",
       "</div>"
      ],
      "text/plain": [
       "                                                 url  \\\n",
       "0  https://research.britishmuseum.org/collectioni...   \n",
       "1  https://research.britishmuseum.org/collectioni...   \n",
       "2  https://research.britishmuseum.org/collectioni...   \n",
       "3  https://research.britishmuseum.org/collectioni...   \n",
       "4  https://research.britishmuseum.org/collectioni...   \n",
       "\n",
       "                                           caption_1  \\\n",
       "0  a painting of a woman standing next to a painting   \n",
       "1          a painting of a woman holding an umbrella   \n",
       "2        a couple of men standing next to each other   \n",
       "3          a painting of a man on a wall with a kite   \n",
       "4                    a painting of a clock on a wall   \n",
       "\n",
       "                                      caption_2                  name  \n",
       "0          a painting of a woman holding a kite  AN00423713_001_l.jpg  \n",
       "1     a painting of a woman holding an umbrella  AN00421017_001_l.jpg  \n",
       "2   a couple of men standing next to each other  AN00595832_001_l.jpg  \n",
       "3  a painting of a person on a wall with a kite  AN00537401_001_l.jpg  \n",
       "4   a painting of a building with a clock on it  AN00246310_001_l.jpg  "
      ]
     },
     "execution_count": 12,
     "metadata": {},
     "output_type": "execute_result"
    }
   ],
   "source": [
    "combined = original.merge(flip_lr, on='url', how='inner', suffixes=('_1', '_2'))\n",
    "\n",
    "combined['name'] = combined.url.apply(os.path.basename)\n",
    "\n",
    "combined.to_csv('Data/Pythia/uki-captions-pythia.csv', index=None)\n",
    "print(len(combined))\n",
    "combined.head()"
   ]
  },
  {
   "cell_type": "code",
   "execution_count": null,
   "metadata": {},
   "outputs": [],
   "source": []
  }
 ],
 "metadata": {
  "kernelspec": {
   "display_name": "Python 3",
   "language": "python",
   "name": "python3"
  },
  "language_info": {
   "codemirror_mode": {
    "name": "ipython",
    "version": 3
   },
   "file_extension": ".py",
   "mimetype": "text/x-python",
   "name": "python",
   "nbconvert_exporter": "python",
   "pygments_lexer": "ipython3",
   "version": "3.7.2"
  }
 },
 "nbformat": 4,
 "nbformat_minor": 2
}
